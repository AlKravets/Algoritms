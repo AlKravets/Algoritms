{
 "cells": [
  {
   "cell_type": "code",
   "execution_count": 2,
   "metadata": {},
   "outputs": [],
   "source": [
    "import numpy as np\n",
    "import random\n",
    "#random.seed(20)"
   ]
  },
  {
   "cell_type": "code",
   "execution_count": 3,
   "metadata": {},
   "outputs": [
    {
     "name": "stdout",
     "output_type": "stream",
     "text": [
      "[1.7        1.92093727 1.3        0.94339811]\n"
     ]
    }
   ],
   "source": [
    "centres = np.array([\n",
    "    [-1,-1],\n",
    "    [-1,1],\n",
    "    [1,1],\n",
    "    [1,-1]\n",
    "])\n",
    "N = centres.shape[0]\n",
    "location =np.array( [0.5, -0.2])\n",
    "\n",
    "\n",
    "distantion = np.zeros(N)\n",
    "for i in range(N):\n",
    "    distantion[i] = ((location[0] - centres[i,0])**2 +(location[1] - centres[i,1])**2)**0.5\n",
    "\n",
    "\n",
    "print(distantion)\n"
   ]
  },
  {
   "cell_type": "code",
   "execution_count": 4,
   "metadata": {},
   "outputs": [
    {
     "data": {
      "text/plain": [
       "array([1.7040564 , 1.92279981, 1.30266509, 0.94744428])"
      ]
     },
     "execution_count": 4,
     "metadata": {},
     "output_type": "execute_result"
    }
   ],
   "source": [
    "def deformation(arr, noise = 0.005):\n",
    "    random.seed(20)\n",
    "    for i in range(arr.shape[0]):\n",
    "        arr[i]+= random.uniform(-noise,noise)\n",
    "        \n",
    "deformation(distantion)\n",
    "distantion"
   ]
  },
  {
   "cell_type": "code",
   "execution_count": null,
   "metadata": {},
   "outputs": [],
   "source": []
  },
  {
   "cell_type": "code",
   "execution_count": 9,
   "metadata": {},
   "outputs": [
    {
     "data": {
      "text/plain": [
       "array([ 0.50244227, -0.1997334 ])"
      ]
     },
     "execution_count": 9,
     "metadata": {},
     "output_type": "execute_result"
    }
   ],
   "source": [
    "c_k = np.array([0.1,0.1])\n",
    "Jf = np.zeros((N, 2))\n",
    "F = np.zeros(N)\n",
    "\n",
    "count =0\n",
    "while count < 200:\n",
    "    for i in range(N):\n",
    "        F[i] = c_k[0]**2 +c_k[1]**2 - 2*centres[i,0]*c_k[0] - 2*centres[i,1]*c_k[1] +centres[i,0]**2\\\n",
    "       +centres[i,1]**2 - distantion[i]**2\n",
    "\n",
    "        Jf[i] = [2*c_k[0]-2*centres[i,0],2*c_k[1]-2*centres[i,1]]\n",
    "    #Left = np.dot(np.transpose(Jf), Jf)\n",
    "    #Right = np.dot(np.dot(np.transpose(Jf), Jf), c_k) - np.dot(np.transpose(Jf), F)\n",
    "    \n",
    "    #c_k = np.linalg.solve(Left,Right)\n",
    "    c_k = c_k - np.dot( np.dot(np.linalg.inv(np.dot(np.transpose(Jf), Jf)), np.transpose(Jf)),F)\n",
    "    count+=1\n",
    "        \n",
    "c_k"
   ]
  },
  {
   "cell_type": "code",
   "execution_count": null,
   "metadata": {},
   "outputs": [],
   "source": []
  },
  {
   "cell_type": "code",
   "execution_count": null,
   "metadata": {},
   "outputs": [],
   "source": []
  }
 ],
 "metadata": {
  "kernelspec": {
   "display_name": "Python 3",
   "language": "python",
   "name": "python3"
  },
  "language_info": {
   "codemirror_mode": {
    "name": "ipython",
    "version": 3
   },
   "file_extension": ".py",
   "mimetype": "text/x-python",
   "name": "python",
   "nbconvert_exporter": "python",
   "pygments_lexer": "ipython3",
   "version": "3.7.3"
  }
 },
 "nbformat": 4,
 "nbformat_minor": 2
}
